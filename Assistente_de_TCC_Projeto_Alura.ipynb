{
  "nbformat": 4,
  "nbformat_minor": 0,
  "metadata": {
    "colab": {
      "provenance": [],
      "authorship_tag": "ABX9TyNzzyju9yQvcl2mSAxWsRhx",
      "include_colab_link": true
    },
    "kernelspec": {
      "name": "python3",
      "display_name": "Python 3"
    },
    "language_info": {
      "name": "python"
    }
  },
  "cells": [
    {
      "cell_type": "markdown",
      "metadata": {
        "id": "view-in-github",
        "colab_type": "text"
      },
      "source": [
        "<a href=\"https://colab.research.google.com/github/PRichardRamos/Assistente_TCC_Alura/blob/main/Assistente_de_TCC_Projeto_Alura.ipynb\" target=\"_parent\"><img src=\"https://colab.research.google.com/assets/colab-badge.svg\" alt=\"Open In Colab\"/></a>"
      ]
    },
    {
      "cell_type": "code",
      "source": [
        "# Baixando tudo que será necessário\n",
        "!pip install -q -U google.generativeai\n",
        "!pip install -q -U PyPDF2\n",
        "!pip install -q -U gdown"
      ],
      "metadata": {
        "id": "MwnWxcFvaLdO"
      },
      "execution_count": null,
      "outputs": []
    },
    {
      "cell_type": "code",
      "execution_count": null,
      "metadata": {
        "id": "8O3YWL4DOJGR"
      },
      "outputs": [],
      "source": [
        "# Importanto as bibliotecas\n",
        "import google.generativeai as genai\n",
        "from google.colab import userdata\n",
        "from gdown import download\n",
        "import PyPDF2\n",
        "import re\n",
        "\n",
        "# Chave de API na aba Secrets do Colab\n",
        "api_code_key = userdata.get('api_key')\n",
        "genai.configure(api_key=api_code_key)"
      ]
    },
    {
      "cell_type": "code",
      "source": [
        "# Verificando os modelos disponíveis\n",
        "for m in genai.list_models():\n",
        "  if 'generateContent' in m.supported_generation_methods:\n",
        "    print(m.name)"
      ],
      "metadata": {
        "id": "doXu4A6TRt1o"
      },
      "execution_count": null,
      "outputs": []
    },
    {
      "cell_type": "code",
      "source": [
        "# Criando e configurando o modelo de IA\n",
        "generation_config = {\n",
        "  \"temperature\": 1,\n",
        "  \"top_p\": 0.95,\n",
        "  \"top_k\": 64,\n",
        "  \"max_output_tokens\": 8192,\n",
        "  \"response_mime_type\": \"text/plain\",\n",
        "}\n",
        "safety_settings = [\n",
        "  {\n",
        "    \"category\": \"HARM_CATEGORY_HARASSMENT\",\n",
        "    \"threshold\": \"BLOCK_MEDIUM_AND_ABOVE\",\n",
        "  },\n",
        "  {\n",
        "    \"category\": \"HARM_CATEGORY_HATE_SPEECH\",\n",
        "    \"threshold\": \"BLOCK_MEDIUM_AND_ABOVE\",\n",
        "  },\n",
        "  {\n",
        "    \"category\": \"HARM_CATEGORY_SEXUALLY_EXPLICIT\",\n",
        "    \"threshold\": \"BLOCK_MEDIUM_AND_ABOVE\",\n",
        "  },\n",
        "  {\n",
        "    \"category\": \"HARM_CATEGORY_DANGEROUS_CONTENT\",\n",
        "    \"threshold\": \"BLOCK_MEDIUM_AND_ABOVE\",\n",
        "  },\n",
        "]\n",
        "\n",
        "model = genai.GenerativeModel(\n",
        "  model_name=\"gemini-1.5-pro-latest\",\n",
        "  safety_settings=safety_settings,\n",
        "  generation_config=generation_config,\n",
        "  system_instruction=\"Aja como um professor da graduação orientando o aluno em seu TCC. Você lerá um texto acadêmico.\\nCaso o tema e a área de atuação do TCC não fique claro, pergunte ao usuário do que se trata.\\n\\nPrimeiro leia o documento e analise a coesão do texto. Faça sugestões de correção nas partes necessárias, incluindo questões como pontuação e acentuação de palavras.\\nComente sobre o tema do TCC e aborde possíveis caminhos para o que falta para ser concluído. Em seguida, escreva um esqueleto para as partes que faltam, a fim de que o aluno apenas preencha as lacunas com as informações necessárias do seu tema.\\nCrie uma lista de etapas para a conclusão, tabelando o que falta e mostrando o que pode ser feito para concluir.\",\n",
        ")"
      ],
      "metadata": {
        "id": "iEw1qg98Ps_r"
      },
      "execution_count": null,
      "outputs": []
    },
    {
      "cell_type": "code",
      "source": [
        "# O usuário insere o link para o PDF no Google Drive\n",
        "link = input(\"Me envie seu TCC\\n \\nInsira aqui o link de compartilhamento seu TCC em pdf\\n \\nÉ importante que seja um link do Google Drive \\n \\n\")\n",
        "\n",
        "# Utilize a expressão regular para encontrar o ID do arquivo\n",
        "id_arquivo = re.search(r'/d/(.+?)/', link).group(1)\n",
        "\n",
        "# Baixando o TCC para ser analizado\n",
        "id = id_arquivo\n",
        "download(id=id, output='tcc.pdf')\n",
        "\n",
        "# Abrir o arquivo PDF e extrair o texto\n",
        "with open('/content/tcc.pdf', 'rb') as f:\n",
        "  pdf_reader = PyPDF2.PdfReader(f)\n",
        "  text = ''\n",
        "  for page in pdf_reader.pages:\n",
        "    text += page.extract_text()\n"
      ],
      "metadata": {
        "id": "MvqJuwn5xH7S"
      },
      "execution_count": null,
      "outputs": []
    },
    {
      "cell_type": "code",
      "source": [
        "# Interagir com o modelo de linguagem\n",
        "chat_session = model.start_chat(\n",
        "  history=[\n",
        "    # Você pode adicionar mensagens anteriores aqui\n",
        "  ]\n",
        ")\n",
        "response = chat_session.send_message(text)\n",
        "print(response.text)"
      ],
      "metadata": {
        "id": "wpBMPEBazT0G"
      },
      "execution_count": null,
      "outputs": []
    }
  ]
}